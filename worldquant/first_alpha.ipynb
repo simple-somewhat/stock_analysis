{
 "cells": [
  {
   "cell_type": "code",
   "execution_count": 10,
   "metadata": {},
   "outputs": [
    {
     "name": "stdout",
     "output_type": "stream",
     "text": [
      "201\n",
      "{'user': {'id': 'TX41606'}, 'token': {'expiry': 14400.0}, 'permissions': []}\n"
     ]
    }
   ],
   "source": [
    "import requests\n",
    "import json\n",
    "from os.path import expanduser\n",
    "from requests.auth import HTTPBasicAuth\n",
    "\n",
    "with open(expanduser('brain_credentials.txt')) as f:\n",
    "    credentials = json.load(f)\n",
    "\n",
    "username, password = credentials\n",
    "\n",
    "sess = requests.Session()\n",
    "\n",
    "sess.auth = HTTPBasicAuth(username,password)\n",
    "\n",
    "response = sess.post('https://api.worldquantbrain.com/authentication')\n",
    "\n",
    "print(response.status_code)\n",
    "print(response.json())"
   ]
  },
  {
   "cell_type": "code",
   "execution_count": null,
   "metadata": {},
   "outputs": [],
   "source": [
    "def get_datafields(s,searchScope,dataset_id:str='',search: str=''):\n",
    "    import pandas as pd \n",
    "    instrument_type = searchScope['instrumentType']\n",
    "    region = searchScope['region']\n",
    "    delay = searchScope['delay']\n",
    "    universe = searchScope['universe']\n",
    "    if len(search) == 0:\n",
    "        url_template = \"https://api.worldquantbrain.com/data-fields?\" + \\\n",
    "            f\"&instrmentType={instrument_type}\" + \\\n",
    "            f\"&region={region}&delay={str(delay)}&universe={universe}&dataset.id={dataset_id}&limit=50\" +\\\n",
    "            \"&offset={x}\"\n",
    "        count = s.get(url_template.format(x=0)).json()['count']\n",
    "    else:\n",
    "        url_template = \"https://api.worldquantbrain.com/data-fields?\" + \\\n",
    "            f\"&instrmentType={instrument_type}\" + \\\n",
    "            f\"&region={region}&delay={str(delay)}&universe={universe}&limit=50\" +\\\n",
    "            f\"&search={search}\" +\\\n",
    "            \"&offset={x}\"\n",
    "        count = 100\n",
    "    datafields_list = []\n",
    "    for x in range(0,count,50):\n",
    "        datafields = s.get(url_template.format(x=x))\n",
    "        datafields_list.append(datafields.json()['results'])\n",
    "    datafields_list_flat = [item for sublist in datafields_list for item in sublist]\n",
    "    datafields_df = pd.DataFrame(datafields_list_flat)\n",
    "    return datafields_df"
   ]
  },
  {
   "cell_type": "code",
   "execution_count": null,
   "metadata": {},
   "outputs": [],
   "source": [
    "searchScope = {'region': 'USA','delay': '1','universe':'TOP3000','instrumentType':'EQUITTY'}\n",
    "model38 = get_datafields(s=sess,searchScope=searchScope,dataset_id='model38')\n",
    "datafields_list_model38 = model38['id'].values"
   ]
  },
  {
   "cell_type": "code",
   "execution_count": null,
   "metadata": {},
   "outputs": [],
   "source": [
    "alpha_list = []\n",
    "for datafield in datafields_list_model38:\n",
    "    print(\"正在将如下Alpha表达式和setting封装\")\n",
    "    print('group_rank(ts_rank({datafiled},252,industry))')\n",
    "    simulation_data = {\n",
    "        'type' : 'REGULAR',\n",
    "        'settings': {\n",
    "            'instrumentType': 'EQUITY',\n",
    "            'region': 'USA',\n",
    "            'universe': 'TOP3000',\n",
    "            'delay': 1,\n",
    "            'decay': 0,\n",
    "            'neutralization': 'INDUSTRY',\n",
    "            'truncation': 0.08,\n",
    "            'pasteurization': 'ON',\n",
    "            'unitHandling': 'VERIFY',\n",
    "            'nanHandling': 'OFF',\n",
    "            'language': 'FASTEXPR',\n",
    "            'visualization': False\n",
    "        },\n",
    "        'regular': f'group_rank(ts_rank({datafield},252),subindustry)'\n",
    "    }\n",
    "\n",
    "    alpha_list.append(simulation_data)"
   ]
  },
  {
   "cell_type": "code",
   "execution_count": null,
   "metadata": {},
   "outputs": [],
   "source": [
    "from time import sleep\n",
    "\n",
    "for alpha in alpha_list:\n",
    "    sim_resp = sess.post(\n",
    "        'https://api.worldquantbrain.com/simulations',\n",
    "        json=alpha,\n",
    "    )\n",
    "    #print(sim_resp.headers)\n",
    "    try:\n",
    "        sim_process_url = sim_resp.headers[\"Location\"]\n",
    "\n",
    "        while True:\n",
    "            sim_process_resp = sess.get(sim_process_url)\n",
    "            retry_after_sec = float(sim_process_resp.headers.get(\"Retry-After\",0))\n",
    "            if retry_after_sec == 0:\n",
    "                break\n",
    "            sleep(retry_after_sec)\n",
    "        alpha_id = sim_process_resp.json()[\"alpha\"]\n",
    "        print(alpha_id)\n",
    "    except:\n",
    "        print(\"no location,sleep for 5 seconds and try next alpha\")\n",
    "        sleep(10)"
   ]
  },
  {
   "cell_type": "code",
   "execution_count": 16,
   "metadata": {},
   "outputs": [],
   "source": [
    "simulation_data  = {\n",
    "    'type' : 'REGULAR',\n",
    "    'settings': {\n",
    "        'instrumentType': 'EQUITY',\n",
    "        'region': 'USA',\n",
    "        'universe': 'TOP3000',\n",
    "        'delay': 1,\n",
    "        'decay': 0,\n",
    "        'neutralization': 'INDUSTRY',\n",
    "        'truncation': 0.08,\n",
    "        'pasteurization': 'ON',\n",
    "        'unitHandling': 'VERIFY',\n",
    "        'nanHandling': 'OFF',\n",
    "        'language': 'FASTEXPR',\n",
    "        'visualization': False\n",
    "    },\n",
    "    'regular': 'liabilities/assets'\n",
    "}"
   ]
  },
  {
   "cell_type": "code",
   "execution_count": 19,
   "metadata": {},
   "outputs": [
    {
     "name": "stdout",
     "output_type": "stream",
     "text": [
      "R8vW1Ld\n"
     ]
    }
   ],
   "source": [
    "from time import sleep\n",
    "\n",
    "sim_resp = sess.post(\n",
    "    'https://api.worldquantbrain.com/simulations',\n",
    "    json=simulation_data,\n",
    ")\n",
    "#print(sim_resp.headers)\n",
    "sim_process_url = sim_resp.headers[\"Location\"]\n",
    "\n",
    "while True:\n",
    "    sim_process_resp = sess.get(sim_process_url)\n",
    "    retry_after_sec = float(sim_process_resp.headers.get(\"Retry-After\",0))\n",
    "    if retry_after_sec == 0:\n",
    "        break\n",
    "    sleep(retry_after_sec)\n",
    "alpha_id = sim_process_resp.json()[\"alpha\"]\n",
    "print(alpha_id)"
   ]
  }
 ],
 "metadata": {
  "kernelspec": {
   "display_name": "Python 3",
   "language": "python",
   "name": "python3"
  },
  "language_info": {
   "codemirror_mode": {
    "name": "ipython",
    "version": 3
   },
   "file_extension": ".py",
   "mimetype": "text/x-python",
   "name": "python",
   "nbconvert_exporter": "python",
   "pygments_lexer": "ipython3",
   "version": "3.13.0"
  }
 },
 "nbformat": 4,
 "nbformat_minor": 2
}
